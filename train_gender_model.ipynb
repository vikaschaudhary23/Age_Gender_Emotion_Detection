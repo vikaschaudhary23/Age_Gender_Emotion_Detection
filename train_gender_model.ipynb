{
 "nbformat": 4,
 "nbformat_minor": 0,
 "metadata": {
  "colab": {
   "provenance": [
    {
     "file_id": "1NUKFYqE-NM_odjfgsbvqScWl3PBVVefv",
     "timestamp": 1641452297053
    }
   ],
   "collapsed_sections": [],
   "machine_shape": "hm",
   "toc_visible": true,
   "mount_file_id": "1NUKFYqE-NM_odjfgsbvqScWl3PBVVefv",
   "authorship_tag": "ABX9TyObCo3nhGad/WCNe9FRFXet"
  },
  "kernelspec": {
   "name": "python3",
   "language": "python",
   "display_name": "Python 3 (ipykernel)"
  },
  "language_info": {
   "name": "python"
  },
  "accelerator": "GPU"
 },
 "cells": [
  {
   "cell_type": "markdown",
   "source": [
    "## Plan of Action\n",
    "\n",
    "*   **UTK Face Dataset** images have labels embedded in their name, as per the following nomenclature:\n",
    " * [age]\\_[gender]\\_[race]\\_[time].jpg\n",
    "* Convert all images to **grayscale**\n",
    "* Using **X epochs** on our **defined CNN Architecture**, comprising of:\n",
    "    - an input *Conv2D* layer (with 32 filters) paired with an *MaxPooling2D* layer,\n",
    "    - 3 pairs of *Conv2D* (with 64, 128 & 256 filters) and *MaxPooling2D* layers,\n",
    "    - 1 *Dense* layer with 128 nodes, and\n",
    "    - an output *Dense* layer with 3 nodes."
   ],
   "metadata": {
    "id": "UIdtXzi6ct4Z"
   }
  },
  {
   "cell_type": "markdown",
   "metadata": {
    "id": "AMmC9XTg6Xeq"
   },
   "source": [
    "## Import Libraries/ Functions"
   ]
  },
  {
   "cell_type": "code",
   "source": [
    "# Imports\n",
    "\n",
    "import pandas as pd\n",
    "import numpy as np\n",
    "\n",
    "import matplotlib.pyplot as plt\n",
    "import cv2\n",
    "import os\n",
    "\n",
    "import tensorflow as tf\n",
    "\n",
    "# from google.colab.patches \n",
    "# import cv2_imshow\n",
    "import matplotlib.pyplot as plt\n",
    "\n",
    "from keras.models import Sequential,load_model,Model\n",
    "from keras.layers import Conv2D,MaxPooling2D,AvgPool2D,GlobalAveragePooling2D,Dense,Dropout,BatchNormalization,Flatten,Input\n",
    "from sklearn.model_selection import train_test_split\n",
    "\n",
    "\n",
    "from tensorflow.keras.layers import Input,Activation,Add\n",
    "from tensorflow.keras.regularizers import l2\n",
    "from tensorflow.keras.optimizers import Adam\n",
    "from tensorflow.keras.callbacks import ModelCheckpoint"
   ],
   "metadata": {
    "id": "Ennv5gyfOxX8",
    "ExecuteTime": {
     "end_time": "2023-12-02T07:11:58.381746900Z",
     "start_time": "2023-12-02T07:11:52.531030Z"
    }
   },
   "execution_count": 3,
   "outputs": [
    {
     "name": "stdout",
     "output_type": "stream",
     "text": [
      "WARNING:tensorflow:From C:\\Users\\TUF\\anaconda3\\Lib\\site-packages\\keras\\src\\losses.py:2976: The name tf.losses.sparse_softmax_cross_entropy is deprecated. Please use tf.compat.v1.losses.sparse_softmax_cross_entropy instead.\n"
     ]
    }
   ]
  },
  {
   "cell_type": "markdown",
   "metadata": {
    "id": "ze8LWdvx6bHI"
   },
   "source": [
    "## Import Dataset"
   ]
  },
  {
   "cell_type": "code",
   "metadata": {
    "id": "li2Nlfi-vNQy",
    "ExecuteTime": {
     "end_time": "2023-12-08T03:14:25.749772300Z",
     "start_time": "2023-12-08T03:14:24.801579100Z"
    }
   },
   "source": [
    "# Ref:  https://github.com/ChibaniMohamed/cnn_age_gender/blob/main/train.py\n",
    "\n",
    "path = r\"C:\\Users\\TUF\\Desktop\\Major Project\\Datsets\\1.2_gender_input_output\\input\\UTKFace\"\n",
    "pixels = []\n",
    "age = []\n",
    "gender = [] \n",
    "\n",
    "i=0\n",
    "for img in os.listdir(path):\n",
    "  i=i+1\n",
    "  genders = img.split(\"_\")[1]\n",
    "  img = cv2.imread(str(path)+\"/\"+str(img))\n",
    "  img = cv2.cvtColor(img,cv2.COLOR_BGR2GRAY)\n",
    "  img=cv2.resize(img,(100,100))\n",
    "  pixels.append(np.array(img))\n",
    "  gender.append(np.array(genders))\n",
    "\n",
    "pixels = np.array(pixels)\n",
    "gender = np.array(gender,np.uint64)"
   ],
   "execution_count": 1,
   "outputs": [
    {
     "ename": "NameError",
     "evalue": "name 'os' is not defined",
     "output_type": "error",
     "traceback": [
      "\u001B[1;31m---------------------------------------------------------------------------\u001B[0m",
      "\u001B[1;31mNameError\u001B[0m                                 Traceback (most recent call last)",
      "Cell \u001B[1;32mIn[1], line 9\u001B[0m\n\u001B[0;32m      6\u001B[0m gender \u001B[38;5;241m=\u001B[39m [] \n\u001B[0;32m      8\u001B[0m i\u001B[38;5;241m=\u001B[39m\u001B[38;5;241m0\u001B[39m\n\u001B[1;32m----> 9\u001B[0m \u001B[38;5;28;01mfor\u001B[39;00m img \u001B[38;5;129;01min\u001B[39;00m os\u001B[38;5;241m.\u001B[39mlistdir(path):\n\u001B[0;32m     10\u001B[0m   i\u001B[38;5;241m=\u001B[39mi\u001B[38;5;241m+\u001B[39m\u001B[38;5;241m1\u001B[39m\n\u001B[0;32m     11\u001B[0m   genders \u001B[38;5;241m=\u001B[39m img\u001B[38;5;241m.\u001B[39msplit(\u001B[38;5;124m\"\u001B[39m\u001B[38;5;124m_\u001B[39m\u001B[38;5;124m\"\u001B[39m)[\u001B[38;5;241m1\u001B[39m]\n",
      "\u001B[1;31mNameError\u001B[0m: name 'os' is not defined"
     ]
    }
   ]
  },
  {
   "cell_type": "code",
   "source": [
    "len(pixels)"
   ],
   "metadata": {
    "colab": {
     "base_uri": "https://localhost:8080/"
    },
    "id": "RKdKGqpwzxOt",
    "executionInfo": {
     "status": "ok",
     "timestamp": 1641543099814,
     "user_tz": -330,
     "elapsed": 448,
     "user": {
      "displayName": "SKILLCATE",
      "photoUrl": "https://lh3.googleusercontent.com/a-/AOh14GhT5e7MnDmh2dcfNhKDOV8oRoeRJVinedzmD2Su=s64",
      "userId": "11062674699417926870"
     }
    },
    "outputId": "9716bda6-f9f8-4267-e2a1-42d6008068ce",
    "ExecuteTime": {
     "end_time": "2023-12-02T07:12:22.273965900Z",
     "start_time": "2023-12-02T07:12:22.269305700Z"
    }
   },
   "execution_count": 5,
   "outputs": [
    {
     "data": {
      "text/plain": "23708"
     },
     "execution_count": 5,
     "metadata": {},
     "output_type": "execute_result"
    }
   ]
  },
  {
   "cell_type": "code",
   "source": [
    "len(gender)"
   ],
   "metadata": {
    "colab": {
     "base_uri": "https://localhost:8080/"
    },
    "id": "NO4NmL3a6adk",
    "executionInfo": {
     "status": "ok",
     "timestamp": 1641543100334,
     "user_tz": -330,
     "elapsed": 12,
     "user": {
      "displayName": "SKILLCATE",
      "photoUrl": "https://lh3.googleusercontent.com/a-/AOh14GhT5e7MnDmh2dcfNhKDOV8oRoeRJVinedzmD2Su=s64",
      "userId": "11062674699417926870"
     }
    },
    "outputId": "d0466432-1716-4a6c-8bd1-dab2455f7253",
    "ExecuteTime": {
     "end_time": "2023-12-02T07:12:22.285319900Z",
     "start_time": "2023-12-02T07:12:22.273965900Z"
    }
   },
   "execution_count": 6,
   "outputs": [
    {
     "data": {
      "text/plain": "23708"
     },
     "execution_count": 6,
     "metadata": {},
     "output_type": "execute_result"
    }
   ]
  },
  {
   "cell_type": "markdown",
   "source": [
    "## Split into Train/ Test"
   ],
   "metadata": {
    "id": "GXv27o_rqB-c"
   }
  },
  {
   "cell_type": "code",
   "source": [
    "x_train,x_test,y_train,y_test = train_test_split(pixels,gender,random_state=100)"
   ],
   "metadata": {
    "id": "YPo5xu_aqA1a",
    "ExecuteTime": {
     "end_time": "2023-12-02T07:12:22.434669100Z",
     "start_time": "2023-12-02T07:12:22.285319900Z"
    }
   },
   "execution_count": 7,
   "outputs": []
  },
  {
   "cell_type": "code",
   "source": [
    "len(x_train)"
   ],
   "metadata": {
    "colab": {
     "base_uri": "https://localhost:8080/"
    },
    "id": "XhQNSqH54edd",
    "executionInfo": {
     "status": "ok",
     "timestamp": 1641543100833,
     "user_tz": -330,
     "elapsed": 507,
     "user": {
      "displayName": "SKILLCATE",
      "photoUrl": "https://lh3.googleusercontent.com/a-/AOh14GhT5e7MnDmh2dcfNhKDOV8oRoeRJVinedzmD2Su=s64",
      "userId": "11062674699417926870"
     }
    },
    "outputId": "4b0fff78-2705-4996-c57f-ff76c41f6bb9",
    "ExecuteTime": {
     "end_time": "2023-12-02T07:12:22.455930300Z",
     "start_time": "2023-12-02T07:12:22.434669100Z"
    }
   },
   "execution_count": 8,
   "outputs": [
    {
     "data": {
      "text/plain": "17781"
     },
     "execution_count": 8,
     "metadata": {},
     "output_type": "execute_result"
    }
   ]
  },
  {
   "cell_type": "code",
   "source": [
    "len(x_test)"
   ],
   "metadata": {
    "colab": {
     "base_uri": "https://localhost:8080/"
    },
    "id": "XBRtEkL84xgN",
    "executionInfo": {
     "status": "ok",
     "timestamp": 1641543100834,
     "user_tz": -330,
     "elapsed": 6,
     "user": {
      "displayName": "SKILLCATE",
      "photoUrl": "https://lh3.googleusercontent.com/a-/AOh14GhT5e7MnDmh2dcfNhKDOV8oRoeRJVinedzmD2Su=s64",
      "userId": "11062674699417926870"
     }
    },
    "outputId": "afe41d83-7079-4ebb-dbbc-493c2846d293",
    "ExecuteTime": {
     "end_time": "2023-12-02T07:12:22.461935700Z",
     "start_time": "2023-12-02T07:12:22.446230800Z"
    }
   },
   "execution_count": 9,
   "outputs": [
    {
     "data": {
      "text/plain": "5927"
     },
     "execution_count": 9,
     "metadata": {},
     "output_type": "execute_result"
    }
   ]
  },
  {
   "cell_type": "markdown",
   "metadata": {
    "id": "Ie6tMjtN6fUr"
   },
   "source": [
    "## Define CNN Architecture"
   ]
  },
  {
   "cell_type": "code",
   "source": [
    "input = Input(shape = (100,100,1))\n",
    "\n",
    "conv1 = Conv2D(32,(3, 3), padding = 'same', strides=(1, 1), kernel_regularizer=l2(0.001))(input)\n",
    "conv1 = Dropout(0.1)(conv1)\n",
    "conv1 = Activation('relu')(conv1)\n",
    "pool1 = MaxPooling2D(pool_size = (2,2)) (conv1)\n",
    "\n",
    "conv2 = Conv2D(64,(3, 3), padding = 'same', strides=(1, 1), kernel_regularizer=l2(0.001))(pool1)\n",
    "conv2 = Dropout(0.1)(conv2)\n",
    "conv2 = Activation('relu')(conv2)\n",
    "pool2 = MaxPooling2D(pool_size = (2,2)) (conv2)\n",
    "\n",
    "conv3 = Conv2D(128,(3, 3), padding = 'same', strides=(1, 1), kernel_regularizer=l2(0.001))(pool2)\n",
    "conv3 = Dropout(0.1)(conv3)\n",
    "conv3 = Activation('relu')(conv3)\n",
    "pool3 = MaxPooling2D(pool_size = (2,2)) (conv3)\n",
    "\n",
    "conv4 = Conv2D(256,(3, 3), padding = 'same', strides=(1, 1), kernel_regularizer=l2(0.001))(pool3)\n",
    "conv4 = Dropout(0.1)(conv4)\n",
    "conv4 = Activation('relu')(conv4)\n",
    "pool4 = MaxPooling2D(pool_size = (2,2)) (conv4)\n",
    "\n",
    "flatten = Flatten()(pool4)\n",
    "\n",
    "dense_1 = Dense(128,activation='relu')(flatten)\n",
    "\n",
    "drop_1 = Dropout(0.2)(dense_1)\n",
    "\n",
    "output = Dense(2,activation=\"sigmoid\")(drop_1)"
   ],
   "metadata": {
    "id": "a7SedAakhxYn",
    "ExecuteTime": {
     "end_time": "2023-12-02T07:12:23.057188500Z",
     "start_time": "2023-12-02T07:12:22.461935700Z"
    }
   },
   "execution_count": 10,
   "outputs": [
    {
     "name": "stdout",
     "output_type": "stream",
     "text": [
      "WARNING:tensorflow:From C:\\Users\\TUF\\anaconda3\\Lib\\site-packages\\keras\\src\\backend.py:1398: The name tf.executing_eagerly_outside_functions is deprecated. Please use tf.compat.v1.executing_eagerly_outside_functions instead.\n",
      "WARNING:tensorflow:From C:\\Users\\TUF\\anaconda3\\Lib\\site-packages\\keras\\src\\layers\\pooling\\max_pooling2d.py:161: The name tf.nn.max_pool is deprecated. Please use tf.nn.max_pool2d instead.\n"
     ]
    }
   ]
  },
  {
   "cell_type": "code",
   "metadata": {
    "id": "UPZTCwG9vY3T",
    "colab": {
     "base_uri": "https://localhost:8080/"
    },
    "executionInfo": {
     "status": "ok",
     "timestamp": 1641543103587,
     "user_tz": -330,
     "elapsed": 5,
     "user": {
      "displayName": "SKILLCATE",
      "photoUrl": "https://lh3.googleusercontent.com/a-/AOh14GhT5e7MnDmh2dcfNhKDOV8oRoeRJVinedzmD2Su=s64",
      "userId": "11062674699417926870"
     }
    },
    "outputId": "4d4fc25c-bab6-4897-9fa8-383023aa0767",
    "ExecuteTime": {
     "end_time": "2023-12-02T07:12:23.284762900Z",
     "start_time": "2023-12-02T07:12:23.057188500Z"
    }
   },
   "source": [
    "model = Model(inputs=input,outputs=output)\n",
    "model.compile(optimizer=\"adam\",loss=[\"sparse_categorical_crossentropy\"],metrics=['accuracy'])\n",
    "model.summary()"
   ],
   "execution_count": 11,
   "outputs": [
    {
     "name": "stdout",
     "output_type": "stream",
     "text": [
      "WARNING:tensorflow:From C:\\Users\\TUF\\anaconda3\\Lib\\site-packages\\keras\\src\\optimizers\\__init__.py:309: The name tf.train.Optimizer is deprecated. Please use tf.compat.v1.train.Optimizer instead.\n",
      "\n",
      "Model: \"model\"\n",
      "_________________________________________________________________\n",
      " Layer (type)                Output Shape              Param #   \n",
      "=================================================================\n",
      " input_1 (InputLayer)        [(None, 100, 100, 1)]     0         \n",
      "                                                                 \n",
      " conv2d (Conv2D)             (None, 100, 100, 32)      320       \n",
      "                                                                 \n",
      " dropout (Dropout)           (None, 100, 100, 32)      0         \n",
      "                                                                 \n",
      " activation (Activation)     (None, 100, 100, 32)      0         \n",
      "                                                                 \n",
      " max_pooling2d (MaxPooling2  (None, 50, 50, 32)        0         \n",
      " D)                                                              \n",
      "                                                                 \n",
      " conv2d_1 (Conv2D)           (None, 50, 50, 64)        18496     \n",
      "                                                                 \n",
      " dropout_1 (Dropout)         (None, 50, 50, 64)        0         \n",
      "                                                                 \n",
      " activation_1 (Activation)   (None, 50, 50, 64)        0         \n",
      "                                                                 \n",
      " max_pooling2d_1 (MaxPoolin  (None, 25, 25, 64)        0         \n",
      " g2D)                                                            \n",
      "                                                                 \n",
      " conv2d_2 (Conv2D)           (None, 25, 25, 128)       73856     \n",
      "                                                                 \n",
      " dropout_2 (Dropout)         (None, 25, 25, 128)       0         \n",
      "                                                                 \n",
      " activation_2 (Activation)   (None, 25, 25, 128)       0         \n",
      "                                                                 \n",
      " max_pooling2d_2 (MaxPoolin  (None, 12, 12, 128)       0         \n",
      " g2D)                                                            \n",
      "                                                                 \n",
      " conv2d_3 (Conv2D)           (None, 12, 12, 256)       295168    \n",
      "                                                                 \n",
      " dropout_3 (Dropout)         (None, 12, 12, 256)       0         \n",
      "                                                                 \n",
      " activation_3 (Activation)   (None, 12, 12, 256)       0         \n",
      "                                                                 \n",
      " max_pooling2d_3 (MaxPoolin  (None, 6, 6, 256)         0         \n",
      " g2D)                                                            \n",
      "                                                                 \n",
      " flatten (Flatten)           (None, 9216)              0         \n",
      "                                                                 \n",
      " dense (Dense)               (None, 128)               1179776   \n",
      "                                                                 \n",
      " dropout_4 (Dropout)         (None, 128)               0         \n",
      "                                                                 \n",
      " dense_1 (Dense)             (None, 2)                 258       \n",
      "                                                                 \n",
      "=================================================================\n",
      "Total params: 1567874 (5.98 MB)\n",
      "Trainable params: 1567874 (5.98 MB)\n",
      "Non-trainable params: 0 (0.00 Byte)\n",
      "_________________________________________________________________\n"
     ]
    }
   ]
  },
  {
   "cell_type": "code",
   "source": [
    "model_path='./output/gender_model.h5'\n",
    "checkpointer = ModelCheckpoint(model_path, monitor='loss',verbose=1,save_best_only=True,\n",
    "                               save_weights_only=False, mode='auto',save_freq='epoch')\n",
    "callback_list=[checkpointer]"
   ],
   "metadata": {
    "id": "K-U0OB-_oAH_",
    "ExecuteTime": {
     "end_time": "2023-12-02T07:12:23.284762900Z",
     "start_time": "2023-12-02T07:12:23.225886700Z"
    }
   },
   "execution_count": 12,
   "outputs": []
  },
  {
   "cell_type": "markdown",
   "metadata": {
    "id": "DKpJOxpA6lvO"
   },
   "source": [
    "## Model Training"
   ]
  },
  {
   "cell_type": "code",
   "metadata": {
    "id": "dpf9OUqZvanW",
    "colab": {
     "base_uri": "https://localhost:8080/"
    },
    "executionInfo": {
     "status": "ok",
     "timestamp": 1641543338653,
     "user_tz": -330,
     "elapsed": 235069,
     "user": {
      "displayName": "SKILLCATE",
      "photoUrl": "https://lh3.googleusercontent.com/a-/AOh14GhT5e7MnDmh2dcfNhKDOV8oRoeRJVinedzmD2Su=s64",
      "userId": "11062674699417926870"
     }
    },
    "outputId": "b36c8b2c-7675-4d7b-c04c-0f6d3673407a",
    "is_executing": true
   },
   "source": [
    "save = model.fit(x_train,y_train,validation_data=(x_test,y_test),epochs=35,callbacks=[callback_list])"
   ],
   "execution_count": null,
   "outputs": []
  },
  {
   "cell_type": "code",
   "source": [
    "# Checking the train and test loss and accuracy values from the neural network above.\n",
    "\n",
    "train_loss = save.history['loss']\n",
    "test_loss = save.history['val_loss']\n",
    "train_accuracy = save.history['accuracy']\n",
    "test_accuracy = save.history['val_accuracy']"
   ],
   "metadata": {
    "id": "0dPotRzT8XeV",
    "is_executing": true
   },
   "execution_count": null,
   "outputs": []
  },
  {
   "cell_type": "code",
   "source": [
    "# Plotting a line chart to visualize the loss and accuracy values by epochs.\n",
    "\n",
    "fig, ax = plt.subplots(ncols=2, figsize=(15,7))\n",
    "\n",
    "ax = ax.ravel()\n",
    "\n",
    "ax[0].plot(train_loss, label='Train Loss', color='royalblue', marker='o', markersize=5)\n",
    "ax[0].plot(test_loss, label='Test Loss', color = 'orangered', marker='o', markersize=5)\n",
    "\n",
    "ax[0].set_xlabel('Epochs', fontsize=14)\n",
    "ax[0].set_ylabel('Categorical Crossentropy', fontsize=14)\n",
    "\n",
    "ax[0].legend(fontsize=14)\n",
    "ax[0].tick_params(axis='both', labelsize=12)\n",
    "\n",
    "ax[1].plot(train_accuracy, label='Train Accuracy', color='royalblue', marker='o', markersize=5)\n",
    "ax[1].plot(test_accuracy, label='Test Accuracy', color='orangered', marker='o', markersize=5)\n",
    "\n",
    "ax[1].set_xlabel('Epochs', fontsize=14)\n",
    "ax[1].set_ylabel('Accuracy', fontsize=14)\n",
    "\n",
    "ax[1].legend(fontsize=14)\n",
    "ax[1].tick_params(axis='both', labelsize=12)\n",
    "\n",
    "fig.suptitle(x=0.5, y=0.92, t=\"Lineplots showing loss and accuracy of CNN model by epochs\", fontsize=16)"
   ],
   "metadata": {
    "colab": {
     "base_uri": "https://localhost:8080/"
    },
    "id": "QLiMy79W8ip0",
    "executionInfo": {
     "status": "ok",
     "timestamp": 1641543339743,
     "user_tz": -330,
     "elapsed": 1106,
     "user": {
      "displayName": "SKILLCATE",
      "photoUrl": "https://lh3.googleusercontent.com/a-/AOh14GhT5e7MnDmh2dcfNhKDOV8oRoeRJVinedzmD2Su=s64",
      "userId": "11062674699417926870"
     }
    },
    "outputId": "a11f818a-9df6-421c-88a8-38915719ea8d",
    "is_executing": true
   },
   "execution_count": null,
   "outputs": []
  },
  {
   "cell_type": "markdown",
   "source": [
    "ROC & AUC curve"
   ],
   "metadata": {
    "collapsed": false
   }
  },
  {
   "cell_type": "code",
   "execution_count": 1,
   "outputs": [],
   "source": [
    "from sklearn.metrics import roc_curve, auc"
   ],
   "metadata": {
    "collapsed": false,
    "ExecuteTime": {
     "end_time": "2023-12-05T04:25:25.194042200Z",
     "start_time": "2023-12-05T04:25:24.734413400Z"
    }
   }
  },
  {
   "cell_type": "code",
   "execution_count": null,
   "outputs": [],
   "source": [
    "y_pred = model.predict_proba(x_test)[:,1]"
   ],
   "metadata": {
    "collapsed": false,
    "is_executing": true
   }
  },
  {
   "cell_type": "code",
   "execution_count": null,
   "outputs": [],
   "source": [
    "# Calculate the AUC and ROC curve\n",
    "fpr, tpr, thresholds = roc_curve(y_test, y_pred)\n",
    "auc = auc(fpr, tpr)"
   ],
   "metadata": {
    "collapsed": false
   }
  },
  {
   "cell_type": "code",
   "execution_count": null,
   "outputs": [],
   "source": [
    "# Plot the ROC curve\n",
    "import matplotlib.pyplot as plt\n",
    "plt.plot(fpr, tpr, label='ROC curve')\n",
    "plt.xlabel('False Positive Rate')\n",
    "plt.ylabel('True Positive Rate')\n",
    "plt.title('ROC Curve for Gender Detection')\n",
    "plt.legend()\n",
    "plt.show()"
   ],
   "metadata": {
    "collapsed": false
   }
  },
  {
   "cell_type": "code",
   "execution_count": null,
   "outputs": [],
   "source": [],
   "metadata": {
    "collapsed": false
   }
  }
 ]
}
